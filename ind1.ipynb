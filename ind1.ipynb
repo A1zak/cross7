{
 "cells": [
  {
   "cell_type": "code",
   "execution_count": 10,
   "metadata": {},
   "outputs": [],
   "source": [
    "import pandas as pd\n",
    "import numpy as np"
   ]
  },
  {
   "cell_type": "code",
   "execution_count": 11,
   "metadata": {},
   "outputs": [],
   "source": [
    "exams = ['оценка1', 'оценка2', 'оценка3', 'оценка4', 'оценка5']\n",
    "df = pd.DataFrame(columns = ['ФИО', '№_группы'] + exams)"
   ]
  },
  {
   "cell_type": "code",
   "execution_count": 12,
   "metadata": {},
   "outputs": [
    {
     "name": "stdout",
     "output_type": "stream",
     "text": [
      "Введите фамилию и инициалы студента:\n",
      "Демьяненко А.В\n",
      "Введите номер группы:\n",
      "23\n",
      "Введите оценки за экзамен через пробел:\n",
      "4 4 4 4 4\n",
      "Еще есть студенты? -> 1(да) / 0(нет): 0\n",
      "\n",
      "              ФИО №_группы  оценка1  оценка2  оценка3  оценка4  оценка5\n",
      "0  Демьяненко А.В       23      4.0      4.0      4.0      4.0      4.0\n",
      "\n",
      "Таких студентов нет\n"
     ]
    }
   ],
   "source": [
    "df = pd.DataFrame(columns = ['ФИО', '№_группы'] + exams)\n",
    "while True:\n",
    "    student = [input('Введите фамилию и инициалы студента:\\n')]\n",
    "    student.append(input('Введите номер группы:\\n'))\n",
    "    student.extend(list(map(int,input('Введите оценки за экзамен через пробел:\\n').split())))\n",
    " \n",
    "    df.loc[len(df)] = student\n",
    "    query = input('Еще есть студенты? -> 1(да) / 0(нет): ')\n",
    "    if query == '0':\n",
    "        break\n",
    "print()\n",
    "df[exams] = df[exams].astype(np.float16)\n",
    "print(df)\n",
    "print()\n",
    "df_4 = df[df[exams].mean(axis=1) > 4][['ФИО', '№_группы']]\n",
    "if df_4.empty:\n",
    "    print('Таких студентов нет')\n",
    "else:\n",
    "    print(df_4)"
   ]
  },
  {
   "cell_type": "code",
   "execution_count": null,
   "metadata": {},
   "outputs": [],
   "source": []
  }
 ],
 "metadata": {
  "kernelspec": {
   "display_name": "Python 3",
   "language": "python",
   "name": "python3"
  },
  "language_info": {
   "codemirror_mode": {
    "name": "ipython",
    "version": 3
   },
   "file_extension": ".py",
   "mimetype": "text/x-python",
   "name": "python",
   "nbconvert_exporter": "python",
   "pygments_lexer": "ipython3",
   "version": "3.8.8"
  }
 },
 "nbformat": 4,
 "nbformat_minor": 4
}
